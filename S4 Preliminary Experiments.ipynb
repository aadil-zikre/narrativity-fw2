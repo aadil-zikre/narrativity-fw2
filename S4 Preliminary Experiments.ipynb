{
 "cells": [
  {
   "cell_type": "code",
   "execution_count": 1,
   "id": "9885c062",
   "metadata": {
    "ExecuteTime": {
     "end_time": "2024-03-11T23:08:04.437247Z",
     "start_time": "2024-03-11T23:08:04.236759Z"
    }
   },
   "outputs": [
    {
     "data": {
      "text/html": [
       "<style>.container { width:100% !important; }</style>"
      ],
      "text/plain": [
       "<IPython.core.display.HTML object>"
      ]
     },
     "metadata": {},
     "output_type": "display_data"
    },
    {
     "name": "stdout",
     "output_type": "stream",
     "text": [
      "2024-03-11 19:08:04,435 :: [INFO] :: Logger initialized WITHOUT file handler\n"
     ]
    }
   ],
   "source": [
    "from az_common_funcs import *"
   ]
  },
  {
   "cell_type": "code",
   "execution_count": 2,
   "id": "b6693f5b-7429-4fc1-bc7c-f662e0f1cd8a",
   "metadata": {
    "ExecuteTime": {
     "end_time": "2024-03-11T23:08:16.480495Z",
     "start_time": "2024-03-11T23:08:09.087591Z"
    },
    "execution": {
     "iopub.execute_input": "2024-02-14T17:13:23.167900Z",
     "iopub.status.busy": "2024-02-14T17:13:23.167096Z",
     "iopub.status.idle": "2024-02-14T17:14:23.643221Z",
     "shell.execute_reply": "2024-02-14T17:14:23.642510Z",
     "shell.execute_reply.started": "2024-02-14T17:13:23.167863Z"
    }
   },
   "outputs": [
    {
     "data": {
      "application/vnd.jupyter.widget-view+json": {
       "model_id": "3270c610c2234e9db97d6d8fad1f315d",
       "version_major": 2,
       "version_minor": 0
      },
      "text/plain": [
       "Downloading https://raw.githubusercontent.com/stanfordnlp/stanza-resources/main/resources_1.7.0.json:   0%|   …"
      ]
     },
     "metadata": {},
     "output_type": "display_data"
    },
    {
     "name": "stderr",
     "output_type": "stream",
     "text": [
      "2024-03-11 19:08:10 INFO: Downloading default packages for language: en (English) ...\n",
      "2024-03-11 19:08:10 INFO: File exists: /home/azikre/stanza_resources/en/default.zip\n",
      "2024-03-11 19:08:14 INFO: Finished downloading models and saved to /home/azikre/stanza_resources.\n",
      "2024-03-11 19:08:14 INFO: Checking for updates to resources.json in case models have been updated.  Note: this behavior can be turned off with download_method=None or download_method=DownloadMethod.REUSE_RESOURCES\n"
     ]
    },
    {
     "data": {
      "application/vnd.jupyter.widget-view+json": {
       "model_id": "6364b4530d594bd0b720ab7e8d8d942d",
       "version_major": 2,
       "version_minor": 0
      },
      "text/plain": [
       "Downloading https://raw.githubusercontent.com/stanfordnlp/stanza-resources/main/resources_1.7.0.json:   0%|   …"
      ]
     },
     "metadata": {},
     "output_type": "display_data"
    },
    {
     "name": "stderr",
     "output_type": "stream",
     "text": [
      "2024-03-11 19:08:14 INFO: Loading these models for language: en (English):\n",
      "=================================\n",
      "| Processor | Package           |\n",
      "---------------------------------\n",
      "| tokenize  | combined          |\n",
      "| mwt       | combined          |\n",
      "| pos       | combined_charlm   |\n",
      "| lemma     | combined_nocharlm |\n",
      "| depparse  | combined_charlm   |\n",
      "=================================\n",
      "\n",
      "2024-03-11 19:08:15 INFO: Using device: cuda\n",
      "2024-03-11 19:08:15 INFO: Loading: tokenize\n",
      "2024-03-11 19:08:15 INFO: Loading: mwt\n",
      "2024-03-11 19:08:15 INFO: Loading: pos\n",
      "2024-03-11 19:08:16 INFO: Loading: lemma\n",
      "2024-03-11 19:08:16 INFO: Loading: depparse\n",
      "2024-03-11 19:08:16 INFO: Done loading processors!\n"
     ]
    },
    {
     "name": "stdout",
     "output_type": "stream",
     "text": [
      "('Deemed', 2, 'amod')\n",
      "('universities', 3, 'nsubj')\n",
      "('charge', 0, 'root')\n",
      "('huge', 5, 'amod')\n",
      "('fees', 3, 'obj')\n",
      "Token           | Relation   | Head            \n",
      "--------------------------------------------------\n",
      "Deemed          | amod       | universities    \n",
      "universities    | nsubj      | charge          \n",
      "charge          | root       | ROOT            \n",
      "huge            | amod       | fees            \n",
      "fees            | obj        | charge          \n"
     ]
    }
   ],
   "source": [
    "import stanza\n",
    "\n",
    "# Download the language model\n",
    "stanza.download('en')\n",
    "\n",
    "sentence = 'Deemed universities charge huge fees'\n",
    "\n",
    "# Build a Neural Pipeline\n",
    "nlp = stanza.Pipeline('en', processors = \"tokenize,mwt,pos,lemma,depparse\") \n",
    "\n",
    "# Pass the sentence through the pipeline\n",
    "doc = nlp(sentence)\n",
    "\n",
    "# Print the dependencies of the first sentence in the doc object\n",
    "# Format - (Token, Index of head, Nature of dependency)\n",
    "# Index starts from 1, 0 is reserved for ROOT\n",
    "doc.sentences[0].print_dependencies()\n",
    "\n",
    "\n",
    "print (\"{:<15} | {:<10} | {:<15} \".format('Token', 'Relation', 'Head'))\n",
    "print (\"-\" * 50)\n",
    "  \n",
    "# Convert sentence object to dictionary  \n",
    "sent_dict = doc.sentences[0].to_dict()\n",
    "\n",
    "# iterate to print the token, relation and head\n",
    "for word in sent_dict:\n",
    "  print (\"{:<15} | {:<10} | {:<15} \"\n",
    "         .format(str(word['text']),str(word['deprel']), str(sent_dict[word['head']-1]['text'] if word['head'] > 0 else 'ROOT')))\n"
   ]
  },
  {
   "cell_type": "code",
   "execution_count": 3,
   "id": "183c2e37-dff8-4cb3-942f-5409876d8623",
   "metadata": {
    "ExecuteTime": {
     "end_time": "2024-03-11T23:10:47.016822Z",
     "start_time": "2024-03-11T23:10:46.182360Z"
    },
    "execution": {
     "iopub.execute_input": "2024-02-14T17:21:21.687250Z",
     "iopub.status.busy": "2024-02-14T17:21:21.686571Z",
     "iopub.status.idle": "2024-02-14T17:21:23.384725Z",
     "shell.execute_reply": "2024-02-14T17:21:23.383770Z",
     "shell.execute_reply.started": "2024-02-14T17:21:21.687223Z"
    }
   },
   "outputs": [
    {
     "name": "stderr",
     "output_type": "stream",
     "text": [
      "2024-03-11 19:10:46 INFO: Checking for updates to resources.json in case models have been updated.  Note: this behavior can be turned off with download_method=None or download_method=DownloadMethod.REUSE_RESOURCES\n"
     ]
    },
    {
     "data": {
      "application/vnd.jupyter.widget-view+json": {
       "model_id": "4af626ab7ae5422b815d20d5ce0d49e9",
       "version_major": 2,
       "version_minor": 0
      },
      "text/plain": [
       "Downloading https://raw.githubusercontent.com/stanfordnlp/stanza-resources/main/resources_1.7.0.json:   0%|   …"
      ]
     },
     "metadata": {},
     "output_type": "display_data"
    },
    {
     "name": "stderr",
     "output_type": "stream",
     "text": [
      "2024-03-11 19:10:46 WARNING: Language en package default expects mwt, which has been added\n",
      "2024-03-11 19:10:46 INFO: Loading these models for language: en (English):\n",
      "=========================================\n",
      "| Processor | Package                   |\n",
      "-----------------------------------------\n",
      "| tokenize  | combined                  |\n",
      "| mwt       | combined                  |\n",
      "| ner       | ontonotes-ww-multi_charlm |\n",
      "=========================================\n",
      "\n",
      "2024-03-11 19:10:46 INFO: Using device: cuda\n",
      "2024-03-11 19:10:46 INFO: Loading: tokenize\n",
      "2024-03-11 19:10:46 INFO: Loading: mwt\n",
      "2024-03-11 19:10:46 INFO: Loading: ner\n",
      "2024-03-11 19:10:47 INFO: Done loading processors!\n"
     ]
    }
   ],
   "source": [
    "import stanza\n",
    "\n",
    "nlp = stanza.Pipeline(lang='en', processors='tokenize,ner')"
   ]
  },
  {
   "cell_type": "code",
   "execution_count": 4,
   "id": "f6d02db1-67e4-411b-97b1-75e3528ee3ed",
   "metadata": {
    "ExecuteTime": {
     "end_time": "2024-03-11T23:10:50.500656Z",
     "start_time": "2024-03-11T23:10:50.481609Z"
    },
    "execution": {
     "iopub.execute_input": "2024-02-14T17:21:25.287802Z",
     "iopub.status.busy": "2024-02-14T17:21:25.287429Z",
     "iopub.status.idle": "2024-02-14T17:21:26.121761Z",
     "shell.execute_reply": "2024-02-14T17:21:26.120854Z",
     "shell.execute_reply.started": "2024-02-14T17:21:25.287775Z"
    }
   },
   "outputs": [],
   "source": [
    "doc = nlp(\"Chris Manning teaches at Stanford University. He lives in the Bay Area. Tomorrow He shall come.\")"
   ]
  },
  {
   "cell_type": "code",
   "execution_count": 5,
   "id": "8ad210a4-fd4c-47b6-b4ef-b56bda224158",
   "metadata": {
    "ExecuteTime": {
     "end_time": "2024-03-11T23:10:52.323997Z",
     "start_time": "2024-03-11T23:10:52.321700Z"
    },
    "execution": {
     "iopub.execute_input": "2024-02-14T17:23:31.305659Z",
     "iopub.status.busy": "2024-02-14T17:23:31.304999Z",
     "iopub.status.idle": "2024-02-14T17:23:31.310019Z",
     "shell.execute_reply": "2024-02-14T17:23:31.309337Z",
     "shell.execute_reply.started": "2024-02-14T17:23:31.305628Z"
    },
    "scrolled": true
   },
   "outputs": [
    {
     "name": "stdout",
     "output_type": "stream",
     "text": [
      "Entity Name                    | Entity Type                   \n",
      "============================================================\n",
      "Chris Manning                  | PERSON                        \n",
      "Stanford University            | ORG                           \n",
      "the Bay Area                   | LOC                           \n",
      "Tomorrow                       | DATE                          \n"
     ]
    }
   ],
   "source": [
    "print(f\"{'Entity Name':<30} | {'Entity Type':<30}\")\n",
    "print(\"=\"*60)\n",
    "print(*[f'{ent.text:<30} | {ent.type:<30}' for sent in doc.sentences for ent in sent.ents], sep='\\n')"
   ]
  },
  {
   "cell_type": "code",
   "execution_count": 7,
   "id": "9bf94604-eda5-4e8e-aa4c-73442f01d6d0",
   "metadata": {
    "ExecuteTime": {
     "end_time": "2024-03-11T23:11:53.045722Z",
     "start_time": "2024-03-11T23:11:53.042594Z"
    }
   },
   "outputs": [
    {
     "data": {
      "text/plain": [
       "[('Chris Manning', 'PERSON'),\n",
       " ('Stanford University', 'ORG'),\n",
       " ('the Bay Area', 'LOC'),\n",
       " ('Tomorrow', 'DATE')]"
      ]
     },
     "execution_count": 7,
     "metadata": {},
     "output_type": "execute_result"
    }
   ],
   "source": []
  },
  {
   "cell_type": "code",
   "execution_count": 8,
   "id": "3fc895cf-bed9-409b-be6d-d25fb64e3956",
   "metadata": {
    "execution": {
     "iopub.execute_input": "2024-02-15T04:21:24.824155Z",
     "iopub.status.busy": "2024-02-15T04:21:24.823207Z",
     "iopub.status.idle": "2024-02-15T04:21:25.381466Z",
     "shell.execute_reply": "2024-02-15T04:21:25.380531Z",
     "shell.execute_reply.started": "2024-02-15T04:21:24.824122Z"
    }
   },
   "outputs": [
    {
     "name": "stdout",
     "output_type": "stream",
     "text": [
      "TEXT                           | ROOT.TEXT                      | ROOT._DEP                      | ROOT.HEAD.TEXT                \n",
      "========================================================================================================================\n",
      "Autonomous cars                | cars                           | nsubj                          | shift                         \n",
      "insurance liability            | liability                      | dobj                           | shift                         \n",
      "manufacturers                  | manufacturers                  | pobj                           | toward                        \n",
      "\n",
      "TEXT                           | START_CHAR                     | END_CHAR                       | LABEL_                        \n",
      "========================================================================================================================\n"
     ]
    }
   ],
   "source": [
    "import spacy\n",
    "\n",
    "nlp = spacy.load(\"en_core_web_sm\")\n",
    "doc = nlp(\"Autonomous cars shift insurance liability toward manufacturers\")\n",
    "\n",
    "print(f\"{'TEXT':<30} | {'ROOT.TEXT':<30} | {'ROOT._DEP':<30} | {'ROOT.HEAD.TEXT':<30}\")\n",
    "print(\"=\"*120)\n",
    "for chunk in doc.noun_chunks:\n",
    "    print(f\"{chunk.text:<30} | {chunk.root.text:<30} | {chunk.root.dep_:<30} | {chunk.root.head.text:<30}\")\n",
    "\n",
    "print()\n",
    "print(f\"{'TEXT':<30} | {'START_CHAR':<30} | {'END_CHAR':<30} | {'LABEL_':<30}\")\n",
    "print(\"=\"*120)\n",
    "for ent in doc.ents:\n",
    "    print(f\"{ent.text:<30} | {ent.start_char:<30} | {ent.end_char:<30} | {ent.label_:<30}\")"
   ]
  },
  {
   "cell_type": "code",
   "execution_count": 9,
   "id": "65450af1-0bae-420a-810b-cb832190196a",
   "metadata": {
    "execution": {
     "iopub.execute_input": "2024-02-15T04:21:12.193126Z",
     "iopub.status.busy": "2024-02-15T04:21:12.192344Z",
     "iopub.status.idle": "2024-02-15T04:21:12.206927Z",
     "shell.execute_reply": "2024-02-15T04:21:12.206249Z",
     "shell.execute_reply.started": "2024-02-15T04:21:12.193092Z"
    }
   },
   "outputs": [
    {
     "name": "stdout",
     "output_type": "stream",
     "text": [
      "TEXT                           | ROOT.TEXT                      | ROOT._DEP                      | ROOT.HEAD.TEXT                \n",
      "========================================================================================================================\n",
      "Apple                          | Apple                          | nsubj                          | looking                       \n",
      "U.K.                           | U.K.                           | dobj                           | buying                        \n",
      "\n",
      "TEXT                           | START_CHAR                     | END_CHAR                       | LABEL_                        \n",
      "========================================================================================================================\n",
      "Apple                          | 0                              | 5                              | ORG                           \n",
      "U.K.                           | 27                             | 31                             | GPE                           \n",
      "$1 billion                     | 44                             | 54                             | MONEY                         \n"
     ]
    }
   ],
   "source": [
    "doc = nlp(\"Apple is looking at buying U.K. startup for $1 billion\")\n",
    "\n",
    "print(f\"{'TEXT':<30} | {'ROOT.TEXT':<30} | {'ROOT._DEP':<30} | {'ROOT.HEAD.TEXT':<30}\")\n",
    "print(\"=\"*120)\n",
    "for chunk in doc.noun_chunks:\n",
    "    print(f\"{chunk.text:<30} | {chunk.root.text:<30} | {chunk.root.dep_:<30} | {chunk.root.head.text:<30}\")\n",
    "\n",
    "print()\n",
    "print(f\"{'TEXT':<30} | {'START_CHAR':<30} | {'END_CHAR':<30} | {'LABEL_':<30}\")\n",
    "print(\"=\"*120)\n",
    "for ent in doc.ents:\n",
    "    print(f\"{ent.text:<30} | {ent.start_char:<30} | {ent.end_char:<30} | {ent.label_:<30}\")"
   ]
  },
  {
   "cell_type": "code",
   "execution_count": null,
   "id": "18848e03-7355-4e4c-bf7a-fcccdb7d10d1",
   "metadata": {},
   "outputs": [],
   "source": []
  },
  {
   "cell_type": "code",
   "execution_count": null,
   "id": "2d0120cd-30d6-45df-88c9-7ca3a91e34a2",
   "metadata": {},
   "outputs": [],
   "source": []
  },
  {
   "cell_type": "code",
   "execution_count": null,
   "id": "d791558a-1ecc-42ec-9a19-48ca09341e3c",
   "metadata": {},
   "outputs": [],
   "source": []
  },
  {
   "cell_type": "code",
   "execution_count": null,
   "id": "d83977c8-a265-40a6-9955-d2dbdc8a067e",
   "metadata": {},
   "outputs": [],
   "source": []
  },
  {
   "cell_type": "code",
   "execution_count": null,
   "id": "97d3996b-e40c-48e6-8e8e-e04bbceda0e6",
   "metadata": {},
   "outputs": [],
   "source": []
  },
  {
   "cell_type": "code",
   "execution_count": null,
   "id": "8afedacc-e284-44c2-a785-849de1d5468c",
   "metadata": {},
   "outputs": [],
   "source": []
  },
  {
   "cell_type": "code",
   "execution_count": null,
   "id": "eff29e77-82db-423f-ae0f-1f27f9fbefae",
   "metadata": {},
   "outputs": [],
   "source": []
  },
  {
   "cell_type": "code",
   "execution_count": null,
   "id": "e60797d1-d06e-48f5-af25-ae0ea5151da4",
   "metadata": {},
   "outputs": [],
   "source": []
  },
  {
   "cell_type": "code",
   "execution_count": null,
   "id": "6b69a4b1-9448-4588-9f68-02de43d3c250",
   "metadata": {},
   "outputs": [],
   "source": []
  },
  {
   "cell_type": "code",
   "execution_count": null,
   "id": "787f403a-3ff2-4eee-b885-fe3bceb54ada",
   "metadata": {},
   "outputs": [],
   "source": []
  }
 ],
 "metadata": {
  "kernelspec": {
   "display_name": "season4",
   "language": "python",
   "name": "season4"
  },
  "language_info": {
   "codemirror_mode": {
    "name": "ipython",
    "version": 3
   },
   "file_extension": ".py",
   "mimetype": "text/x-python",
   "name": "python",
   "nbconvert_exporter": "python",
   "pygments_lexer": "ipython3",
   "version": "3.11.4"
  },
  "varInspector": {
   "cols": {
    "lenName": 16,
    "lenType": 16,
    "lenVar": 40
   },
   "kernels_config": {
    "python": {
     "delete_cmd_postfix": "",
     "delete_cmd_prefix": "del ",
     "library": "var_list.py",
     "varRefreshCmd": "print(var_dic_list())"
    },
    "r": {
     "delete_cmd_postfix": ") ",
     "delete_cmd_prefix": "rm(",
     "library": "var_list.r",
     "varRefreshCmd": "cat(var_dic_list()) "
    }
   },
   "types_to_exclude": [
    "module",
    "function",
    "builtin_function_or_method",
    "instance",
    "_Feature"
   ],
   "window_display": false
  }
 },
 "nbformat": 4,
 "nbformat_minor": 5
}
