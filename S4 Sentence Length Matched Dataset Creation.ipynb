{
 "cells": [
  {
   "cell_type": "code",
   "execution_count": 1,
   "id": "5050584c",
   "metadata": {
    "ExecuteTime": {
     "end_time": "2024-03-19T23:10:49.014566Z",
     "start_time": "2024-03-19T23:10:49.010755Z"
    }
   },
   "outputs": [],
   "source": [
    "GLOBAL_SEED = 1000"
   ]
  },
  {
   "cell_type": "code",
   "execution_count": 1,
   "id": "9956a903",
   "metadata": {
    "ExecuteTime": {
     "end_time": "2024-03-28T19:02:04.009673Z",
     "start_time": "2024-03-28T19:02:03.745400Z"
    }
   },
   "outputs": [
    {
     "data": {
      "text/html": [
       "<style>.container { width:100% !important; }</style>"
      ],
      "text/plain": [
       "<IPython.core.display.HTML object>"
      ]
     },
     "metadata": {},
     "output_type": "display_data"
    },
    {
     "name": "stdout",
     "output_type": "stream",
     "text": [
      "2024-03-28 15:02:04,008 :: [INFO] :: Logger initialized WITHOUT file handler\n"
     ]
    }
   ],
   "source": [
    "from az_common_funcs import *"
   ]
  },
  {
   "cell_type": "code",
   "execution_count": 2,
   "id": "fc48451a",
   "metadata": {
    "ExecuteTime": {
     "end_time": "2024-03-28T19:29:05.613230Z",
     "start_time": "2024-03-28T19:29:03.278206Z"
    }
   },
   "outputs": [],
   "source": [
    "from preprocessing_utils import preprocessing_utils"
   ]
  },
  {
   "cell_type": "code",
   "execution_count": 3,
   "id": "4b3eacc9",
   "metadata": {
    "ExecuteTime": {
     "end_time": "2024-03-28T19:29:57.105579Z",
     "start_time": "2024-03-28T19:29:57.101877Z"
    }
   },
   "outputs": [],
   "source": [
    "pu = preprocessing_utils()"
   ]
  },
  {
   "cell_type": "code",
   "execution_count": 4,
   "id": "1ae69cc8",
   "metadata": {
    "ExecuteTime": {
     "end_time": "2024-03-28T19:30:08.495817Z",
     "start_time": "2024-03-28T19:30:07.613080Z"
    }
   },
   "outputs": [],
   "source": [
    "df = pd.read_parquet(f\"{data_dir}/S4_narrative_labelled_dataset.parquet\")"
   ]
  },
  {
   "cell_type": "code",
   "execution_count": 5,
   "id": "513d7102",
   "metadata": {
    "ExecuteTime": {
     "end_time": "2024-03-28T19:30:09.484458Z",
     "start_time": "2024-03-28T19:30:09.474529Z"
    }
   },
   "outputs": [
    {
     "data": {
      "text/html": [
       "<div>\n",
       "<style scoped>\n",
       "    .dataframe tbody tr th:only-of-type {\n",
       "        vertical-align: middle;\n",
       "    }\n",
       "\n",
       "    .dataframe tbody tr th {\n",
       "        vertical-align: top;\n",
       "    }\n",
       "\n",
       "    .dataframe thead th {\n",
       "        text-align: right;\n",
       "    }\n",
       "</style>\n",
       "<table border=\"1\" class=\"dataframe\">\n",
       "  <thead>\n",
       "    <tr style=\"text-align: right;\">\n",
       "      <th></th>\n",
       "      <th>review_id</th>\n",
       "      <th>sent_gte_3</th>\n",
       "      <th>cognitive_score</th>\n",
       "      <th>affective_score</th>\n",
       "      <th>spatial_embedding_score</th>\n",
       "      <th>temporal_embedding_score</th>\n",
       "      <th>narrativity_label</th>\n",
       "      <th>review_text</th>\n",
       "    </tr>\n",
       "  </thead>\n",
       "  <tbody>\n",
       "    <tr>\n",
       "      <th>0</th>\n",
       "      <td>7778460</td>\n",
       "      <td>True</td>\n",
       "      <td>0.333333</td>\n",
       "      <td>0.333333</td>\n",
       "      <td>2</td>\n",
       "      <td>2</td>\n",
       "      <td>good</td>\n",
       "      <td>Yleen made our week long visit a very enjoyabl...</td>\n",
       "    </tr>\n",
       "    <tr>\n",
       "      <th>1</th>\n",
       "      <td>11649689</td>\n",
       "      <td>True</td>\n",
       "      <td>0.400000</td>\n",
       "      <td>0.600000</td>\n",
       "      <td>2</td>\n",
       "      <td>2</td>\n",
       "      <td>good</td>\n",
       "      <td>They were super nice hosts, totally went out o...</td>\n",
       "    </tr>\n",
       "    <tr>\n",
       "      <th>2</th>\n",
       "      <td>15108885</td>\n",
       "      <td>True</td>\n",
       "      <td>0.222222</td>\n",
       "      <td>0.333333</td>\n",
       "      <td>2</td>\n",
       "      <td>2</td>\n",
       "      <td>good</td>\n",
       "      <td>My 15-year-old daughter and  I stayed at Farah...</td>\n",
       "    </tr>\n",
       "    <tr>\n",
       "      <th>3</th>\n",
       "      <td>26416346</td>\n",
       "      <td>True</td>\n",
       "      <td>0.333333</td>\n",
       "      <td>0.333333</td>\n",
       "      <td>2</td>\n",
       "      <td>2</td>\n",
       "      <td>good</td>\n",
       "      <td>Clean and convenient place to stay while we vi...</td>\n",
       "    </tr>\n",
       "    <tr>\n",
       "      <th>4</th>\n",
       "      <td>28564976</td>\n",
       "      <td>True</td>\n",
       "      <td>0.333333</td>\n",
       "      <td>0.333333</td>\n",
       "      <td>2</td>\n",
       "      <td>2</td>\n",
       "      <td>good</td>\n",
       "      <td>I had a wonderful time and was amazed at how m...</td>\n",
       "    </tr>\n",
       "  </tbody>\n",
       "</table>\n",
       "</div>"
      ],
      "text/plain": [
       "   review_id  sent_gte_3  cognitive_score  affective_score   \n",
       "0    7778460        True         0.333333         0.333333  \\\n",
       "1   11649689        True         0.400000         0.600000   \n",
       "2   15108885        True         0.222222         0.333333   \n",
       "3   26416346        True         0.333333         0.333333   \n",
       "4   28564976        True         0.333333         0.333333   \n",
       "\n",
       "   spatial_embedding_score  temporal_embedding_score narrativity_label   \n",
       "0                        2                         2              good  \\\n",
       "1                        2                         2              good   \n",
       "2                        2                         2              good   \n",
       "3                        2                         2              good   \n",
       "4                        2                         2              good   \n",
       "\n",
       "                                         review_text  \n",
       "0  Yleen made our week long visit a very enjoyabl...  \n",
       "1  They were super nice hosts, totally went out o...  \n",
       "2  My 15-year-old daughter and  I stayed at Farah...  \n",
       "3  Clean and convenient place to stay while we vi...  \n",
       "4  I had a wonderful time and was amazed at how m...  "
      ]
     },
     "execution_count": 5,
     "metadata": {},
     "output_type": "execute_result"
    }
   ],
   "source": [
    "df.head()"
   ]
  },
  {
   "cell_type": "code",
   "execution_count": 6,
   "id": "a0fde638",
   "metadata": {
    "ExecuteTime": {
     "end_time": "2024-03-28T19:30:10.973550Z",
     "start_time": "2024-03-28T19:30:10.941221Z"
    }
   },
   "outputs": [
    {
     "data": {
      "text/plain": [
       "narrativity_label\n",
       "bad     997198\n",
       "good     12913\n",
       "Name: count, dtype: int64"
      ]
     },
     "execution_count": 6,
     "metadata": {},
     "output_type": "execute_result"
    }
   ],
   "source": [
    "df.narrativity_label.value_counts()"
   ]
  },
  {
   "cell_type": "code",
   "execution_count": 8,
   "id": "107f0181",
   "metadata": {
    "ExecuteTime": {
     "end_time": "2024-03-28T19:30:24.591052Z",
     "start_time": "2024-03-28T19:30:24.589111Z"
    }
   },
   "outputs": [],
   "source": [
    "cf = pu"
   ]
  },
  {
   "cell_type": "code",
   "execution_count": 9,
   "id": "12753e1e",
   "metadata": {
    "ExecuteTime": {
     "end_time": "2024-03-28T19:30:52.380970Z",
     "start_time": "2024-03-28T19:30:27.447571Z"
    }
   },
   "outputs": [
    {
     "name": "stderr",
     "output_type": "stream",
     "text": [
      "100%|███████████████████████████████████████████████████████████████████████████████████████████████████████████████████| 63132/63132 [00:21<00:00, 2924.33it/s]\n",
      "100%|███████████████████████████████████████████████████████████████████████████████████████████████████████████████████| 63132/63132 [00:21<00:00, 2899.91it/s]\n",
      "100%|███████████████████████████████████████████████████████████████████████████████████████████████████████████████████| 63132/63132 [00:21<00:00, 2897.97it/s]\n",
      "100%|███████████████████████████████████████████████████████████████████████████████████████████████████████████████████| 63132/63132 [00:21<00:00, 2931.59it/s]\n",
      "100%|███████████████████████████████████████████████████████████████████████████████████████████████████████████████████| 63132/63132 [00:21<00:00, 2890.45it/s]\n",
      "100%|███████████████████████████████████████████████████████████████████████████████████████████████████████████████████| 63132/63132 [00:21<00:00, 2909.35it/s]\n",
      "100%|███████████████████████████████████████████████████████████████████████████████████████████████████████████████████| 63132/63132 [00:21<00:00, 2899.65it/s]\n",
      "100%|███████████████████████████████████████████████████████████████████████████████████████████████████████████████████| 63132/63132 [00:21<00:00, 2892.79it/s]\n",
      "100%|███████████████████████████████████████████████████████████████████████████████████████████████████████████████████| 63132/63132 [00:21<00:00, 2870.82it/s]\n",
      "100%|███████████████████████████████████████████████████████████████████████████████████████████████████████████████████| 63132/63132 [00:21<00:00, 2877.53it/s]\n",
      "100%|███████████████████████████████████████████████████████████████████████████████████████████████████████████████████| 63132/63132 [00:21<00:00, 2890.76it/s]\n",
      "100%|███████████████████████████████████████████████████████████████████████████████████████████████████████████████████| 63132/63132 [00:21<00:00, 2901.77it/s]\n",
      " 99%|█████████████████████████████████████████████████████████████████████████████████████████████████████████████████▌ | 62359/63131 [00:21<00:00, 4077.67it/s]\n",
      "100%|███████████████████████████████████████████████████████████████████████████████████████████████████████████████████| 63132/63132 [00:21<00:00, 2890.18it/s]\n",
      "100%|███████████████████████████████████████████████████████████████████████████████████████████████████████████████████| 63131/63131 [00:21<00:00, 2895.67it/s]\n",
      "100%|███████████████████████████████████████████████████████████████████████████████████████████████████████████████████| 63132/63132 [00:24<00:00, 2577.01it/s]\n"
     ]
    }
   ],
   "source": [
    "df['review_length'] = df['review_text'].multicore_apply_by_chunks(cf.calculate_word_length, 16, 16)"
   ]
  },
  {
   "cell_type": "code",
   "execution_count": 9,
   "id": "20bdb366",
   "metadata": {
    "ExecuteTime": {
     "end_time": "2024-03-11T23:36:47.797575Z",
     "start_time": "2024-03-11T23:36:47.725572Z"
    }
   },
   "outputs": [
    {
     "data": {
      "text/html": [
       "<div>\n",
       "<style scoped>\n",
       "    .dataframe tbody tr th:only-of-type {\n",
       "        vertical-align: middle;\n",
       "    }\n",
       "\n",
       "    .dataframe tbody tr th {\n",
       "        vertical-align: top;\n",
       "    }\n",
       "\n",
       "    .dataframe thead th {\n",
       "        text-align: right;\n",
       "    }\n",
       "</style>\n",
       "<table border=\"1\" class=\"dataframe\">\n",
       "  <thead>\n",
       "    <tr style=\"text-align: right;\">\n",
       "      <th></th>\n",
       "      <th>count</th>\n",
       "      <th>mean</th>\n",
       "      <th>std</th>\n",
       "      <th>min</th>\n",
       "      <th>25%</th>\n",
       "      <th>50%</th>\n",
       "      <th>75%</th>\n",
       "      <th>max</th>\n",
       "    </tr>\n",
       "    <tr>\n",
       "      <th>narrativity_label</th>\n",
       "      <th></th>\n",
       "      <th></th>\n",
       "      <th></th>\n",
       "      <th></th>\n",
       "      <th></th>\n",
       "      <th></th>\n",
       "      <th></th>\n",
       "      <th></th>\n",
       "    </tr>\n",
       "  </thead>\n",
       "  <tbody>\n",
       "    <tr>\n",
       "      <th>bad</th>\n",
       "      <td>997198.0</td>\n",
       "      <td>28.784899</td>\n",
       "      <td>22.173939</td>\n",
       "      <td>3.0</td>\n",
       "      <td>16.0</td>\n",
       "      <td>23.0</td>\n",
       "      <td>33.0</td>\n",
       "      <td>885.0</td>\n",
       "    </tr>\n",
       "    <tr>\n",
       "      <th>good</th>\n",
       "      <td>12913.0</td>\n",
       "      <td>137.178657</td>\n",
       "      <td>102.420805</td>\n",
       "      <td>20.0</td>\n",
       "      <td>67.0</td>\n",
       "      <td>109.0</td>\n",
       "      <td>173.0</td>\n",
       "      <td>1217.0</td>\n",
       "    </tr>\n",
       "  </tbody>\n",
       "</table>\n",
       "</div>"
      ],
      "text/plain": [
       "                      count        mean         std   min   25%    50%    75%   \n",
       "narrativity_label                                                               \n",
       "bad                997198.0   28.784899   22.173939   3.0  16.0   23.0   33.0  \\\n",
       "good                12913.0  137.178657  102.420805  20.0  67.0  109.0  173.0   \n",
       "\n",
       "                      max  \n",
       "narrativity_label          \n",
       "bad                 885.0  \n",
       "good               1217.0  "
      ]
     },
     "execution_count": 9,
     "metadata": {},
     "output_type": "execute_result"
    }
   ],
   "source": [
    "df.groupby('narrativity_label')['review_length'].describe()"
   ]
  },
  {
   "cell_type": "code",
   "execution_count": 11,
   "id": "0520dc4f",
   "metadata": {
    "ExecuteTime": {
     "end_time": "2024-03-28T19:31:08.022849Z",
     "start_time": "2024-03-28T19:31:01.517113Z"
    }
   },
   "outputs": [
    {
     "name": "stderr",
     "output_type": "stream",
     "text": [
      "100%|██████████████████████████████████████████████████████████████████████████████████████████████████████████████████| 63132/63132 [00:05<00:00, 11593.54it/s]\n",
      "100%|██████████████████████████████████████████████████████████████████████████████████████████████████████████████████| 63132/63132 [00:05<00:00, 11435.75it/s]\n",
      "100%|██████████████████████████████████████████████████████████████████████████████████████████████████████████████████| 63132/63132 [00:05<00:00, 11405.49it/s]\n",
      "100%|██████████████████████████████████████████████████████████████████████████████████████████████████████████████████| 63132/63132 [00:05<00:00, 11249.99it/s]\n",
      "100%|██████████████████████████████████████████████████████████████████████████████████████████████████████████████████| 63132/63132 [00:05<00:00, 11172.08it/s]\n",
      "100%|██████████████████████████████████████████████████████████████████████████████████████████████████████████████████| 63132/63132 [00:05<00:00, 11354.20it/s]\n",
      "100%|██████████████████████████████████████████████████████████████████████████████████████████████████████████████████| 63132/63132 [00:05<00:00, 11121.74it/s]\n",
      "100%|██████████████████████████████████████████████████████████████████████████████████████████████████████████████████| 63132/63132 [00:05<00:00, 11159.77it/s]\n",
      "100%|██████████████████████████████████████████████████████████████████████████████████████████████████████████████████| 63132/63132 [00:05<00:00, 11468.12it/s]\n",
      "100%|██████████████████████████████████████████████████████████████████████████████████████████████████████████████████| 63132/63132 [00:05<00:00, 10946.41it/s]\n",
      "100%|██████████████████████████████████████████████████████████████████████████████████████████████████████████████████| 63132/63132 [00:05<00:00, 11359.31it/s]\n",
      "100%|██████████████████████████████████████████████████████████████████████████████████████████████████████████████████| 63132/63132 [00:05<00:00, 10582.90it/s]\n",
      "100%|██████████████████████████████████████████████████████████████████████████████████████████████████████████████████| 63132/63132 [00:05<00:00, 11137.30it/s]\n",
      "100%|██████████████████████████████████████████████████████████████████████████████████████████████████████████████████| 63131/63131 [00:05<00:00, 11467.53it/s]\n",
      "100%|██████████████████████████████████████████████████████████████████████████████████████████████████████████████████| 63132/63132 [00:05<00:00, 11203.19it/s]\n",
      "100%|██████████████████████████████████████████████████████████████████████████████████████████████████████████████████| 63132/63132 [00:05<00:00, 10923.90it/s]\n"
     ]
    }
   ],
   "source": [
    "df['review_num_sentences'] = df['review_text'].multicore_apply_by_chunks(cf.calculate_num_sentences, 16, 16)"
   ]
  },
  {
   "cell_type": "code",
   "execution_count": 12,
   "id": "3600c422",
   "metadata": {
    "ExecuteTime": {
     "end_time": "2024-03-28T19:31:13.766670Z",
     "start_time": "2024-03-28T19:31:13.693534Z"
    }
   },
   "outputs": [
    {
     "data": {
      "text/html": [
       "<div>\n",
       "<style scoped>\n",
       "    .dataframe tbody tr th:only-of-type {\n",
       "        vertical-align: middle;\n",
       "    }\n",
       "\n",
       "    .dataframe tbody tr th {\n",
       "        vertical-align: top;\n",
       "    }\n",
       "\n",
       "    .dataframe thead th {\n",
       "        text-align: right;\n",
       "    }\n",
       "</style>\n",
       "<table border=\"1\" class=\"dataframe\">\n",
       "  <thead>\n",
       "    <tr style=\"text-align: right;\">\n",
       "      <th>narrativity_label</th>\n",
       "      <th>bad</th>\n",
       "      <th>good</th>\n",
       "    </tr>\n",
       "  </thead>\n",
       "  <tbody>\n",
       "    <tr>\n",
       "      <th>count</th>\n",
       "      <td>997198.000000</td>\n",
       "      <td>12913.000000</td>\n",
       "    </tr>\n",
       "    <tr>\n",
       "      <th>mean</th>\n",
       "      <td>3.674325</td>\n",
       "      <td>5.381476</td>\n",
       "    </tr>\n",
       "    <tr>\n",
       "      <th>std</th>\n",
       "      <td>1.291684</td>\n",
       "      <td>2.991247</td>\n",
       "    </tr>\n",
       "    <tr>\n",
       "      <th>min</th>\n",
       "      <td>3.000000</td>\n",
       "      <td>3.000000</td>\n",
       "    </tr>\n",
       "    <tr>\n",
       "      <th>25%</th>\n",
       "      <td>3.000000</td>\n",
       "      <td>3.000000</td>\n",
       "    </tr>\n",
       "    <tr>\n",
       "      <th>50%</th>\n",
       "      <td>3.000000</td>\n",
       "      <td>4.000000</td>\n",
       "    </tr>\n",
       "    <tr>\n",
       "      <th>75%</th>\n",
       "      <td>4.000000</td>\n",
       "      <td>7.000000</td>\n",
       "    </tr>\n",
       "    <tr>\n",
       "      <th>max</th>\n",
       "      <td>162.000000</td>\n",
       "      <td>31.000000</td>\n",
       "    </tr>\n",
       "  </tbody>\n",
       "</table>\n",
       "</div>"
      ],
      "text/plain": [
       "narrativity_label            bad          good\n",
       "count              997198.000000  12913.000000\n",
       "mean                    3.674325      5.381476\n",
       "std                     1.291684      2.991247\n",
       "min                     3.000000      3.000000\n",
       "25%                     3.000000      3.000000\n",
       "50%                     3.000000      4.000000\n",
       "75%                     4.000000      7.000000\n",
       "max                   162.000000     31.000000"
      ]
     },
     "execution_count": 12,
     "metadata": {},
     "output_type": "execute_result"
    }
   ],
   "source": [
    "df.groupby('narrativity_label')['review_num_sentences'].describe().T"
   ]
  },
  {
   "cell_type": "code",
   "execution_count": 14,
   "id": "6bf958ba",
   "metadata": {
    "ExecuteTime": {
     "end_time": "2024-03-28T19:31:42.360569Z",
     "start_time": "2024-03-28T19:31:42.173990Z"
    }
   },
   "outputs": [],
   "source": [
    "import seaborn as sns"
   ]
  },
  {
   "cell_type": "code",
   "execution_count": 19,
   "id": "ef77d90e",
   "metadata": {
    "ExecuteTime": {
     "end_time": "2024-03-28T19:33:19.150516Z",
     "start_time": "2024-03-28T19:33:19.039857Z"
    }
   },
   "outputs": [
    {
     "data": {
      "text/plain": [
       "<Axes: xlabel='review_num_sentences', ylabel='count'>"
      ]
     },
     "execution_count": 19,
     "metadata": {},
     "output_type": "execute_result"
    },
    {
     "data": {
      "image/png": "[encoded data removed]",
      "text/plain": [
       "<Figure size 640x480 with 1 Axes>"
      ]
     },
     "metadata": {},
     "output_type": "display_data"
    }
   ],
   "source": [
    "sns.lineplot(df.query('narrativity_label == \"good\"').review_num_sentences.value_counts().sort_index().iloc[:30])"
   ]
  },
  {
   "cell_type": "code",
   "execution_count": 17,
   "id": "484f3f1c",
   "metadata": {
    "ExecuteTime": {
     "end_time": "2024-03-28T19:32:59.804498Z",
     "start_time": "2024-03-28T19:32:59.631907Z"
    }
   },
   "outputs": [
    {
     "data": {
      "text/plain": [
       "<Axes: xlabel='review_num_sentences', ylabel='count'>"
      ]
     },
     "execution_count": 17,
     "metadata": {},
     "output_type": "execute_result"
    },
    {
     "data": {
      "image/png": "[encoded data removed]",
      "text/plain": [
       "<Figure size 640x480 with 1 Axes>"
      ]
     },
     "metadata": {},
     "output_type": "display_data"
    }
   ],
   "source": [
    "sns.lineplot(df.query('narrativity_label == \"bad\"').review_num_sentences.value_counts().sort_index().iloc[:30])"
   ]
  },
  {
   "cell_type": "code",
   "execution_count": 29,
   "id": "4d67b439",
   "metadata": {
    "ExecuteTime": {
     "end_time": "2024-03-19T19:14:59.200838Z",
     "start_time": "2024-03-19T19:14:59.184728Z"
    },
    "scrolled": true
   },
   "outputs": [
    {
     "data": {
      "text/plain": [
       "review_num_sentences\n",
       "3     5845\n",
       "4      811\n",
       "5      718\n",
       "6     1331\n",
       "7     1774\n",
       "8      719\n",
       "9      816\n",
       "10     172\n",
       "11     203\n",
       "12     113\n",
       "13     132\n",
       "14     116\n",
       "15      34\n",
       "16      28\n",
       "17      18\n",
       "18      22\n",
       "19      24\n",
       "20       6\n",
       "21       7\n",
       "22       5\n",
       "23       6\n",
       "24       2\n",
       "25       2\n",
       "26       4\n",
       "27       3\n",
       "28       1\n",
       "31       1\n",
       "Name: count, dtype: int64"
      ]
     },
     "execution_count": 29,
     "metadata": {},
     "output_type": "execute_result"
    }
   ],
   "source": [
    "df.query('narrativity_label == \"good\"').review_num_sentences.value_counts().sort_index()"
   ]
  },
  {
   "cell_type": "code",
   "execution_count": 31,
   "id": "7a8caafb",
   "metadata": {
    "ExecuteTime": {
     "end_time": "2024-03-19T19:16:31.222423Z",
     "start_time": "2024-03-19T19:16:31.148852Z"
    },
    "scrolled": true
   },
   "outputs": [
    {
     "data": {
      "text/plain": [
       "review_num_sentences\n",
       "3      625240\n",
       "4      223332\n",
       "5       81382\n",
       "6       33325\n",
       "7       15439\n",
       "8        7639\n",
       "9        4290\n",
       "10       2460\n",
       "11       1381\n",
       "12        902\n",
       "13        524\n",
       "14        345\n",
       "15        234\n",
       "16        157\n",
       "17        106\n",
       "18         98\n",
       "19         67\n",
       "20         46\n",
       "21         48\n",
       "22         28\n",
       "23         29\n",
       "24         21\n",
       "25         15\n",
       "26         15\n",
       "27         10\n",
       "28          9\n",
       "29          8\n",
       "30          5\n",
       "31          3\n",
       "32          4\n",
       "33          6\n",
       "34          3\n",
       "35          1\n",
       "36          1\n",
       "37          1\n",
       "38          3\n",
       "39          6\n",
       "40          1\n",
       "41          1\n",
       "42          1\n",
       "45          2\n",
       "47          2\n",
       "48          1\n",
       "49          1\n",
       "51          1\n",
       "53          1\n",
       "58          1\n",
       "60          2\n",
       "162         1\n",
       "Name: count, dtype: int64"
      ]
     },
     "execution_count": 31,
     "metadata": {},
     "output_type": "execute_result"
    }
   ],
   "source": [
    "df.query('narrativity_label == \"bad\"').review_num_sentences.value_counts().sort_index()\n",
    "\n",
    "# 19 seems to be a good cutoff as the distribution is really sparse after that. "
   ]
  },
  {
   "cell_type": "code",
   "execution_count": 37,
   "id": "fc2bdbb7",
   "metadata": {
    "ExecuteTime": {
     "end_time": "2024-03-19T19:27:37.763774Z",
     "start_time": "2024-03-19T19:27:37.115047Z"
    }
   },
   "outputs": [],
   "source": [
    "df_list = []\n",
    "for i in range(3,20):\n",
    "    df_temp_good = df.query(f'narrativity_label == \"good\" and review_num_sentences == {i!r}')\n",
    "    goods_sampled = df_temp_good.shape[0]\n",
    "    df_list.append(df_temp_good.copy())\n",
    "    \n",
    "    df_temp_bad = df.query(f'narrativity_label == \"bad\" and review_num_sentences == {i!r}')\n",
    "    df_list.append(df_temp_bad.sample(goods_sampled, random_state = GLOBAL_SEED).copy())\n",
    "    \n",
    "df_final = pd.concat(df_list, ignore_index=True)"
   ]
  },
  {
   "cell_type": "code",
   "execution_count": 38,
   "id": "c2ec52fb",
   "metadata": {
    "ExecuteTime": {
     "end_time": "2024-03-19T19:27:39.907422Z",
     "start_time": "2024-03-19T19:27:39.899189Z"
    }
   },
   "outputs": [
    {
     "data": {
      "text/html": [
       "<div>\n",
       "<style scoped>\n",
       "    .dataframe tbody tr th:only-of-type {\n",
       "        vertical-align: middle;\n",
       "    }\n",
       "\n",
       "    .dataframe tbody tr th {\n",
       "        vertical-align: top;\n",
       "    }\n",
       "\n",
       "    .dataframe thead th {\n",
       "        text-align: right;\n",
       "    }\n",
       "</style>\n",
       "<table border=\"1\" class=\"dataframe\">\n",
       "  <thead>\n",
       "    <tr style=\"text-align: right;\">\n",
       "      <th>narrativity_label</th>\n",
       "      <th>bad</th>\n",
       "      <th>good</th>\n",
       "    </tr>\n",
       "  </thead>\n",
       "  <tbody>\n",
       "    <tr>\n",
       "      <th>count</th>\n",
       "      <td>12876.000000</td>\n",
       "      <td>12876.000000</td>\n",
       "    </tr>\n",
       "    <tr>\n",
       "      <th>mean</th>\n",
       "      <td>5.330382</td>\n",
       "      <td>5.330382</td>\n",
       "    </tr>\n",
       "    <tr>\n",
       "      <th>std</th>\n",
       "      <td>2.835702</td>\n",
       "      <td>2.835702</td>\n",
       "    </tr>\n",
       "    <tr>\n",
       "      <th>min</th>\n",
       "      <td>3.000000</td>\n",
       "      <td>3.000000</td>\n",
       "    </tr>\n",
       "    <tr>\n",
       "      <th>25%</th>\n",
       "      <td>3.000000</td>\n",
       "      <td>3.000000</td>\n",
       "    </tr>\n",
       "    <tr>\n",
       "      <th>50%</th>\n",
       "      <td>4.000000</td>\n",
       "      <td>4.000000</td>\n",
       "    </tr>\n",
       "    <tr>\n",
       "      <th>75%</th>\n",
       "      <td>7.000000</td>\n",
       "      <td>7.000000</td>\n",
       "    </tr>\n",
       "    <tr>\n",
       "      <th>max</th>\n",
       "      <td>19.000000</td>\n",
       "      <td>19.000000</td>\n",
       "    </tr>\n",
       "  </tbody>\n",
       "</table>\n",
       "</div>"
      ],
      "text/plain": [
       "narrativity_label           bad          good\n",
       "count              12876.000000  12876.000000\n",
       "mean                   5.330382      5.330382\n",
       "std                    2.835702      2.835702\n",
       "min                    3.000000      3.000000\n",
       "25%                    3.000000      3.000000\n",
       "50%                    4.000000      4.000000\n",
       "75%                    7.000000      7.000000\n",
       "max                   19.000000     19.000000"
      ]
     },
     "execution_count": 38,
     "metadata": {},
     "output_type": "execute_result"
    }
   ],
   "source": [
    "df_final.groupby('narrativity_label').review_num_sentences.describe().T"
   ]
  },
  {
   "cell_type": "code",
   "execution_count": 49,
   "id": "150e58ea",
   "metadata": {
    "ExecuteTime": {
     "end_time": "2024-03-19T20:01:57.145620Z",
     "start_time": "2024-03-19T20:01:57.142258Z"
    }
   },
   "outputs": [
    {
     "data": {
      "text/plain": [
       "Index(['review_id', 'sent_gte_3', 'cognitive_score', 'affective_score',\n",
       "       'spatial_embedding_score', 'temporal_embedding_score',\n",
       "       'narrativity_label', 'review_text', 'review_length',\n",
       "       'review_num_sentences'],\n",
       "      dtype='object')"
      ]
     },
     "execution_count": 49,
     "metadata": {},
     "output_type": "execute_result"
    }
   ],
   "source": [
    "df_final.columns"
   ]
  },
  {
   "cell_type": "code",
   "execution_count": 50,
   "id": "18307323",
   "metadata": {
    "ExecuteTime": {
     "end_time": "2024-03-19T20:02:18.132233Z",
     "start_time": "2024-03-19T20:02:18.001294Z"
    }
   },
   "outputs": [],
   "source": [
    "df_final.rename(columns = {'review_text' : 'doc_a'}, inplace=True)\n",
    "\n",
    "file_name = \"S4_sentence_len_matched_labelled_pairs_F1.jsonl\"\n",
    "\n",
    "df_final.to_json(os.path.join(data_dir, file_name), orient='records', lines=True)"
   ]
  },
  {
   "cell_type": "code",
   "execution_count": 51,
   "id": "66739a7e",
   "metadata": {
    "ExecuteTime": {
     "end_time": "2024-03-19T20:02:20.962494Z",
     "start_time": "2024-03-19T20:02:20.934607Z"
    }
   },
   "outputs": [
    {
     "name": "stdout",
     "output_type": "stream",
     "text": [
      "Running Command :: cp /home/azikre/aadil/data//S4_sentence_len_matched_labelled_pairs_F1.jsonl /home/azikre/aadil/github/Transformer-Models-for-Text-Coherence-Assessment/processed_data/AIRBNB/\n",
      "output ::  \n",
      "error ::  \n",
      "return code ::  0\n"
     ]
    }
   ],
   "source": [
    "PROCESSED_DATASET_PATH = \"/home/azikre/aadil/github/Transformer-Models-for-Text-Coherence-Assessment/processed_data/AIRBNB/\"\n",
    "\n",
    "cmd(f\"cp {data_dir}/{file_name} {PROCESSED_DATASET_PATH}\")"
   ]
  },
  {
   "cell_type": "code",
   "execution_count": null,
   "id": "704140c9",
   "metadata": {},
   "outputs": [],
   "source": []
  },
  {
   "cell_type": "code",
   "execution_count": null,
   "id": "86709d96",
   "metadata": {},
   "outputs": [],
   "source": []
  },
  {
   "cell_type": "code",
   "execution_count": null,
   "id": "b7273ff0",
   "metadata": {},
   "outputs": [],
   "source": []
  },
  {
   "cell_type": "code",
   "execution_count": null,
   "id": "af0ff6ed",
   "metadata": {},
   "outputs": [],
   "source": []
  },
  {
   "cell_type": "code",
   "execution_count": null,
   "id": "8f92e818",
   "metadata": {},
   "outputs": [],
   "source": []
  },
  {
   "cell_type": "code",
   "execution_count": null,
   "id": "6a521b6e",
   "metadata": {},
   "outputs": [],
   "source": []
  },
  {
   "cell_type": "code",
   "execution_count": null,
   "id": "c29cfb49",
   "metadata": {},
   "outputs": [],
   "source": []
  },
  {
   "cell_type": "code",
   "execution_count": null,
   "id": "e017b7e6",
   "metadata": {},
   "outputs": [],
   "source": []
  },
  {
   "cell_type": "code",
   "execution_count": null,
   "id": "a7739aac",
   "metadata": {},
   "outputs": [],
   "source": []
  },
  {
   "cell_type": "code",
   "execution_count": null,
   "id": "e62ca228",
   "metadata": {},
   "outputs": [],
   "source": []
  },
  {
   "cell_type": "code",
   "execution_count": null,
   "id": "7d400e82",
   "metadata": {},
   "outputs": [],
   "source": []
  },
  {
   "cell_type": "code",
   "execution_count": null,
   "id": "646b8303",
   "metadata": {},
   "outputs": [],
   "source": []
  },
  {
   "cell_type": "code",
   "execution_count": null,
   "id": "64817627",
   "metadata": {},
   "outputs": [],
   "source": []
  },
  {
   "cell_type": "code",
   "execution_count": null,
   "id": "0b113c79",
   "metadata": {},
   "outputs": [],
   "source": []
  },
  {
   "cell_type": "code",
   "execution_count": null,
   "id": "a875e9d1",
   "metadata": {},
   "outputs": [],
   "source": []
  },
  {
   "cell_type": "code",
   "execution_count": null,
   "id": "b8526a64",
   "metadata": {},
   "outputs": [],
   "source": []
  },
  {
   "cell_type": "code",
   "execution_count": null,
   "id": "2911a9d8",
   "metadata": {},
   "outputs": [],
   "source": []
  },
  {
   "cell_type": "code",
   "execution_count": null,
   "id": "7482eaa5",
   "metadata": {},
   "outputs": [],
   "source": []
  },
  {
   "cell_type": "code",
   "execution_count": null,
   "id": "89a65c81",
   "metadata": {},
   "outputs": [],
   "source": []
  },
  {
   "cell_type": "code",
   "execution_count": null,
   "id": "a1afa114",
   "metadata": {},
   "outputs": [],
   "source": []
  },
  {
   "cell_type": "code",
   "execution_count": null,
   "id": "3203c4aa",
   "metadata": {},
   "outputs": [],
   "source": []
  }
 ],
 "metadata": {
  "kernelspec": {
   "display_name": "season4",
   "language": "python",
   "name": "season4"
  },
  "language_info": {
   "codemirror_mode": {
    "name": "ipython",
    "version": 3
   },
   "file_extension": ".py",
   "mimetype": "text/x-python",
   "name": "python",
   "nbconvert_exporter": "python",
   "pygments_lexer": "ipython3",
   "version": "3.11.4"
  },
  "varInspector": {
   "cols": {
    "lenName": 16,
    "lenType": 16,
    "lenVar": 40
   },
   "kernels_config": {
    "python": {
     "delete_cmd_postfix": "",
     "delete_cmd_prefix": "del ",
     "library": "var_list.py",
     "varRefreshCmd": "print(var_dic_list())"
    },
    "r": {
     "delete_cmd_postfix": ") ",
     "delete_cmd_prefix": "rm(",
     "library": "var_list.r",
     "varRefreshCmd": "cat(var_dic_list()) "
    }
   },
   "types_to_exclude": [
    "module",
    "function",
    "builtin_function_or_method",
    "instance",
    "_Feature"
   ],
   "window_display": false
  }
 },
 "nbformat": 4,
 "nbformat_minor": 5
}
