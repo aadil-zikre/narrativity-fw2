{
 "cells": [
  {
   "cell_type": "code",
   "execution_count": 1,
   "id": "585d0ab0",
   "metadata": {},
   "outputs": [
    {
     "data": {
      "text/html": [
       "<style>.container { width:100% !important; }</style>"
      ],
      "text/plain": [
       "<IPython.core.display.HTML object>"
      ]
     },
     "metadata": {},
     "output_type": "display_data"
    },
    {
     "name": "stdout",
     "output_type": "stream",
     "text": [
      "2024-02-28 17:22:21,918 :: [INFO] :: Logger initialized WITHOUT file handler\n"
     ]
    }
   ],
   "source": [
    "from az_common_funcs import *"
   ]
  },
  {
   "cell_type": "code",
   "execution_count": 2,
   "id": "5c6b38e1",
   "metadata": {},
   "outputs": [
    {
     "name": "stdout",
     "output_type": "stream",
     "text": [
      "Downloaded pre-trained UDPipe model for 'en' language\n"
     ]
    },
    {
     "name": "stderr",
     "output_type": "stream",
     "text": [
      "/home/azikre/aadil/venvs/main_env/lib/python3.11/site-packages/tqdm/auto.py:21: TqdmWarning: IProgress not found. Please update jupyter and ipywidgets. See https://ipywidgets.readthedocs.io/en/stable/user_install.html\n",
      "  from .autonotebook import tqdm as notebook_tqdm\n"
     ]
    }
   ],
   "source": [
    "from disco_score import DiscoScorer"
   ]
  },
  {
   "cell_type": "code",
   "execution_count": 3,
   "id": "d3aea12d",
   "metadata": {},
   "outputs": [],
   "source": [
    "disco_scorer = DiscoScorer(device='cuda:0', model_name='bert-base-uncased')"
   ]
  },
  {
   "cell_type": "code",
   "execution_count": 4,
   "id": "81d65cf3",
   "metadata": {},
   "outputs": [
    {
     "name": "stdout",
     "output_type": "stream",
     "text": [
      "0.5\n",
      "0.3333333333333333\n",
      "0.8888888888888888\n",
      "0.4444444444444444\n",
      "Already downloaded a model for the 'en' language\n",
      "0.2302157878619937\n",
      "0.9092738628387451\n"
     ]
    }
   ],
   "source": [
    "system = [\"Paul Merson has restarted his row with andros townsend after the Tottenham midfielder was brought on with only seven minutes remaining in his team 's 0-0 draw with burnley. Townsend was brought on in the 83rd minute for Tottenham as they drew 0-0 against Burnley .\"]\n",
    "references = [[\"Paul Merson has restarted his row with burnley on sunday. Townsend was brought on in the 83rd minute for tottenham. Andros Townsend scores england 's equaliser in their 1-1 friendly draw. Townsend hit a stunning equaliser for england against italy.\"]]\n",
    "\n",
    "for s, refs in zip(system, references):\n",
    "    s = s.lower()\n",
    "    refs = [r.lower() for r in refs]\n",
    "    print(disco_scorer.EntityGraph(s, refs))\n",
    "    print(disco_scorer.LexicalChain(s, refs))\n",
    "    print(disco_scorer.RC(s, refs))    \n",
    "    print(disco_scorer.LC(s, refs)) \n",
    "    print(disco_scorer.DS_Focus_NN(s, refs)) # FocusDiff \n",
    "    print(disco_scorer.DS_SENT_NN(s, refs)) # SentGraph"
   ]
  },
  {
   "cell_type": "code",
   "execution_count": null,
   "id": "0765d8b1",
   "metadata": {},
   "outputs": [],
   "source": []
  },
  {
   "cell_type": "code",
   "execution_count": null,
   "id": "c234dd28",
   "metadata": {},
   "outputs": [],
   "source": []
  },
  {
   "cell_type": "code",
   "execution_count": null,
   "id": "cb33b356",
   "metadata": {},
   "outputs": [],
   "source": []
  },
  {
   "cell_type": "code",
   "execution_count": null,
   "id": "88bddec9",
   "metadata": {},
   "outputs": [],
   "source": []
  },
  {
   "cell_type": "code",
   "execution_count": null,
   "id": "2b58da59",
   "metadata": {},
   "outputs": [],
   "source": []
  },
  {
   "cell_type": "code",
   "execution_count": null,
   "id": "8fa9c5a9",
   "metadata": {},
   "outputs": [],
   "source": []
  },
  {
   "cell_type": "code",
   "execution_count": null,
   "id": "95e4ab90",
   "metadata": {},
   "outputs": [],
   "source": []
  },
  {
   "cell_type": "code",
   "execution_count": null,
   "id": "73337504",
   "metadata": {},
   "outputs": [],
   "source": []
  },
  {
   "cell_type": "code",
   "execution_count": null,
   "id": "638c5e78",
   "metadata": {},
   "outputs": [],
   "source": []
  }
 ],
 "metadata": {
  "kernelspec": {
   "display_name": "main_env",
   "language": "python",
   "name": "main_env"
  },
  "language_info": {
   "codemirror_mode": {
    "name": "ipython",
    "version": 3
   },
   "file_extension": ".py",
   "mimetype": "text/x-python",
   "name": "python",
   "nbconvert_exporter": "python",
   "pygments_lexer": "ipython3",
   "version": "3.11.4"
  }
 },
 "nbformat": 4,
 "nbformat_minor": 5
}
